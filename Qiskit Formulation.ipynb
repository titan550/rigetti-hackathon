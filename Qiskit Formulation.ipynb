{
 "cells": [
  {
   "cell_type": "markdown",
   "metadata": {},
   "source": [
    "The below code creates the hamiltonian for the following TSP formulation (taken from qiskit)\n",
    "$C(\\textbf{x})=\\sum_{i,j=1}^{N-1}w_{ij}\\sum_{p=1}^{N-1} x_{i,p}x_{j,p+1}+\\sum_{j=1}^{N-1}w_{0j} x_{j,1}+\\sum_{i=1}^{N-1}w_{i0} x_{i,N-1}+ A\\sum_{p=1}^{N-1}\\left(1- \\sum_{i=1}^{N-1} x_{i,p}\\right)^2+A\\sum_{i=1}^{N-1}\\left(1- \\sum_{p=1}^{N-1} x_{i,p}\\right)^2.$\n",
    "\n"
   ]
  },
  {
   "cell_type": "code",
   "execution_count": 2,
   "metadata": {},
   "outputs": [],
   "source": [
    "from pyquil.paulis import PauliTerm, PauliSum\n",
    "\n",
    "# city 0 is fixed as the first and last city visited\n",
    "def get_qubit(city, order, num_cities):\n",
    "    return (city-1) * (num_cities-1) + order\n",
    "\n",
    "# assumes cities are labelled from 0 to N-1\n",
    "# uses Qiskit formulation: $$C(\\\\textbf{x})=\\\\sum_{i,j=1}^{N-1}w_{ij}\\\\sum_{p=1}^{N-1} x_{i,p}x_{j,p+1}+\\\\sum_{j=1}^{N-1}w_{0j} x_{j,1}+\\\\sum_{i=1}^{N-1}w_{i0} x_{i,N-1}+ A\\\\sum_{p=1}^{N-1}\\\\left(1- \\\\sum_{i=1}^{N-1} x_{i,p}\\\\right)^2+A\\\\sum_{i=1}^{N-1}\\\\left(1- \\\\sum_{p=1}^{N-1} x_{i,p}\\\\right)^2.$$\n",
    "def tsp_hamiltonian(graph, A):\n",
    "    N = len(graph.nodes())\n",
    "    num_qubits = N ** 2\n",
    "    hamiltonian = []\n",
    "\n",
    "    for city in range(1, N):\n",
    "        terms = []\n",
    "        terms.append(PauliTerm(\"I\", 0, 1))\n",
    "        for i in range(1, N):\n",
    "            qubit = get_qubit(city, i, N)\n",
    "            terms.append(PauliTerm(\"Z\", qubit, -1))\n",
    "\n",
    "        hamiltonian.append(PauliTerm(\"I\", 0, A) * PauliSum(terms) * PauliSum(terms))\n",
    "\n",
    "    for i in range(1, N):\n",
    "        terms = []\n",
    "        terms.append(PauliTerm(\"I\", 0, 1))\n",
    "        for city in range(1, N):\n",
    "            qubit = get_qubit(city, i, N)\n",
    "            terms.append(PauliTerm(\"Z\", qubit, -1))\n",
    "\n",
    "        hamiltonian.append(PauliTerm(\"I\", 0, A) * PauliSum(terms) * PauliSum(terms))\n",
    "\n",
    "\n",
    "\n",
    "    for i in range(1, N):\n",
    "        for j in range(1, N):\n",
    "            w = graph[i,j]['weight']\n",
    "\n",
    "            terms = []\n",
    "            for p in range(1, N):\n",
    "                qubit_i = get_qubit(i, p, N)\n",
    "                qubit_j = get_qubit(j, p+1, N)\n",
    "                terms.append(PauliTerm(\"Z\", qubit_i, 1) * PauliTerm(\"Z\", qubit_j, 1))\n",
    "\n",
    "            hamiltonian.append(PauliTerm(\"I\", 0, w) * PauliSum(terms))\n",
    "\n",
    "\n",
    "\n",
    "    terms = []\n",
    "    for j in range(1, N):\n",
    "        w_0j = graph[0, j]['weight']\n",
    "        qubit = get_qubit(j, 1, N)\n",
    "        terms.append(PauliTerm(\"Z\", qubit, w_0j))\n",
    "    hamiltonian.append(PauliSum(terms))\n",
    "\n",
    "\n",
    "    terms = []\n",
    "    for i in range(1, N):\n",
    "        w_i0 = graph[i, 0]['weight']\n",
    "        qubit = get_qubit(i, N-1, N)\n",
    "        terms.append(PauliTerm(\"Z\", qubit, w_i0))\n",
    "    hamiltonian.append(PauliSum(terms))\n",
    "    \n",
    "    return hamiltonian\n"
   ]
  },
  {
   "cell_type": "code",
   "execution_count": null,
   "metadata": {},
   "outputs": [],
   "source": []
  }
 ],
 "metadata": {
  "kernelspec": {
   "display_name": "Python 3",
   "language": "python",
   "name": "python3"
  },
  "language_info": {
   "codemirror_mode": {
    "name": "ipython",
    "version": 3
   },
   "file_extension": ".py",
   "mimetype": "text/x-python",
   "name": "python",
   "nbconvert_exporter": "python",
   "pygments_lexer": "ipython3",
   "version": "3.6.3"
  }
 },
 "nbformat": 4,
 "nbformat_minor": 2
}
