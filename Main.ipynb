{
 "cells": [
  {
   "cell_type": "markdown",
   "metadata": {},
   "source": [
    "Hello World!"
   ]
  },
  {
   "cell_type": "code",
   "execution_count": 174,
   "metadata": {},
   "outputs": [],
   "source": [
    "from skopt import gp_minimize #Doc here: https://scikit-optimize.github.io/#skopt.gp_minimize\n",
    "from pyquil.quil import Program\n",
    "from pyquil.api import QVMConnection\n",
    "from pyquil.api import QPUConnection\n",
    "from pyquil.gates import X, Z, I, MEASURE\n",
    "from pyquil.paulis import PauliTerm, sZ, check_commutation, exponentiate_commuting_pauli_sum, exponentiate, sI\n",
    "from Universe import Universe\n",
    "import numpy as np\n",
    "\n",
    "qvm = QVMConnection()"
   ]
  },
  {
   "cell_type": "markdown",
   "metadata": {},
   "source": [
    "Section I: Initialization\n",
    "------------------------\n",
    "\n",
    "We flip one qubit in each logical group on, corresponding to the ordering 1 --> 2 --> 3 --> 4:"
   ]
  },
  {
   "cell_type": "code",
   "execution_count": null,
   "metadata": {
    "collapsed": true
   },
   "outputs": [],
   "source": [
    "initialization = Program(X(0), X(5), X(10), X(15))"
   ]
  },
  {
   "cell_type": "markdown",
   "metadata": {},
   "source": [
    "We also define what the partition for our cities and ordering indeces will be. In this section we use the *color-parity partition* defined on page 20 of this [QAOA Heuristic paper][2] to partition the Hamiltonian terms into a mutually commuting set of unitary operators. First we define the partition (for the **n=4** case):\n",
    "\n",
    "[2]: https://arxiv.org/pdf/1709.03489.pdf"
   ]
  },
  {
   "cell_type": "code",
   "execution_count": 77,
   "metadata": {},
   "outputs": [],
   "source": [
    "city_partitions = [[[0,1],[2,3]],[[0,2],[1,3]],[[0,3],[1,2]]] # Each 2-tuple correspnds to an edge (u,v)\n",
    "order_partitions = [[0,2],[1,3]] # Each number corresponds to an possible position in the ordering (i)\n",
    "num_qubits = 4**2\n",
    "\n",
    "random = np.random.uniform(low = 1, high = 20, size=[4,4])\n",
    "distance_array = np.floor((random + np.transpose(random))/2)"
   ]
  },
  {
   "cell_type": "markdown",
   "metadata": {},
   "source": [
    "Section II: Defining the Cost Hamiltonian (Phase Separator)\n",
    "-------------------------------------------------------"
   ]
  },
  {
   "cell_type": "code",
   "execution_count": 138,
   "metadata": {},
   "outputs": [],
   "source": [
    "def z(city_index, row_index):\n",
    "    return sZ((city_index * 4 + row_index) % num_qubits )\n",
    "    \n",
    "def weight(city_1, city_2, row_index):\n",
    "    return PauliTerm('I', (city_1 * 4 + row_index) % num_qubits, distance_array[city_1, city_2])\n",
    "\n",
    "def H_cost_term(i, u, v):\n",
    "    return  weight(u, v, i) * z(u, i) * z(v , i + 1)\n",
    "\n",
    "def H_cost_partition(city_partition, order_partition):\n",
    "    result = 0\n",
    "    for uv in city_partition:\n",
    "        for i in order_partition:\n",
    "            result += H_cost_term(uv[0],uv[1],i)           \n",
    "    return result\n",
    "\n",
    "\n",
    "def U_cost_partition(city_partition, order_partition):\n",
    "    city = city_partition[0][0]\n",
    "    index = order_partition[0]\n",
    "    \n",
    "    weight = PauliTerm('I', (city * 4 + index) % num_qubits )\n",
    "    \n",
    "    H_cost = H_cost_partition(city_partition, order_partition)\n",
    "    \n",
    "    comm_count = True\n",
    "    \n",
    "    for element in H_cost.terms:\n",
    "        comm_count *= check_commutation(H_cost.terms, element)\n",
    "    \n",
    "    if comm_count == True:\n",
    "        result = exponentiate_commuting_pauli_sum(H_cost + weight)\n",
    "        return result\n",
    "    \n",
    "    else:\n",
    "        result = exponentiate(H_cost) * weight\n",
    "        return result\n",
    "   \n",
    "def U_cost_all(city_partitions, order_partitions, gamma):\n",
    "    result = Program(I(0))\n",
    "\n",
    "    for city_partition in city_partitions:\n",
    "        for order_partition in order_partitions:\n",
    "            unitary = U_cost_partition(city_partition, order_partition)\n",
    "            \n",
    "            result = result.inst(unitary(gamma))\n",
    "            \n",
    "    return result"
   ]
  },
  {
   "cell_type": "markdown",
   "metadata": {},
   "source": [
    "Section III: Defining the Driver Hamiltonian (Mixer)\n",
    "-------------------------------------------------"
   ]
  },
  {
   "cell_type": "code",
   "execution_count": 159,
   "metadata": {},
   "outputs": [],
   "source": [
    "from pyquil.paulis import exponentiate, PauliSum, PauliTerm, check_commutation, exponentiate_commuting_pauli_sum, commuting_sets\n",
    "\n",
    "# hardcoded to 4 for now\n",
    "def get_qubit(city, order, num_cities=4):\n",
    "    return city * num_cities + order\n",
    "\n",
    "\n",
    "def S_plus(qubit):\n",
    "    '''\n",
    "    S+ operation used in mixing hamiltonian for the Travelling Salesperson Problem found in arXiv:1709.03489\n",
    "\n",
    "    :param qubit: qubit to apply S+ operation to\n",
    "    :return:\n",
    "    '''\n",
    "    return PauliTerm(\"X\", qubit, 1) + PauliTerm(\"Y\", qubit, complex(0, 1))\n",
    "\n",
    "\n",
    "def S_minus(qubit):\n",
    "    '''\n",
    "    S- operation used in mixing hamiltonian for the Travelling Salesperson Problem found in arXiv:1709.03489\n",
    "\n",
    "    :param qubit: qubit to apply S- operation to\n",
    "    :return:\n",
    "    '''\n",
    "    return PauliTerm(\"X\", qubit, 1) + PauliTerm(\"Y\", qubit, complex(0, -1))\n",
    "\n",
    "\n",
    "def H_iuv(i, u, v):\n",
    "    '''\n",
    "    generates a partial mixing hamiltonian for the Travelling Salesperson Problem found in arXiv:1709.03489\n",
    "\n",
    "    :param i: order term (e.g. the ith stop)\n",
    "    :param u: source city\n",
    "    :param v: destination city\n",
    "    :return:\n",
    "    '''\n",
    "    qubit_ui = get_qubit(u, i)\n",
    "    qubit_vi1 = get_qubit(v, i+1)\n",
    "    qubit_ui1 = get_qubit(u, i + 1)\n",
    "    qubit_vi = get_qubit(v, i)\n",
    "\n",
    "    terms = [\n",
    "        S_plus(qubit_ui) * S_plus(qubit_vi1) * S_minus(qubit_ui1) * S_minus(qubit_vi),\n",
    "        S_minus(qubit_ui) * S_minus(qubit_vi1) * S_plus(qubit_ui1) * S_plus(qubit_vi)\n",
    "    ]\n",
    "\n",
    "    result = terms[0] + terms[1]\n",
    "\n",
    "    return result\n",
    "\n",
    "def H_mixer_partition(city_partition, order_partition):\n",
    "    result = 0\n",
    "    for uv in city_partition:\n",
    "        for i in order_partition:\n",
    "            result += H_iuv(i,uv[0],uv[1])          \n",
    "    return result\n",
    "\n",
    "\n",
    "def U_partition(city_partition, order_partition):\n",
    "    '''\n",
    "    partial color parity mixer for the Travelling Salesperson Problem found in arXiv:1709.03489\n",
    "\n",
    "    :param B:\n",
    "    :param city_partitions: list of city partitions (which are lists themselves of tuples of cities).\n",
    "                            Equivalent to the color partitions in the original algorithm\n",
    "    :param order_partitions: list of order partitions (which are lists themselves of orders).\n",
    "                            Equivalent to the parity partitions in the original algorithm\n",
    "    :return:\n",
    "    '''\n",
    "    H_mixer = H_mixer_partition(city_partition, order_partition)\n",
    "    \n",
    "    comm_count = True\n",
    "    \n",
    "    for element in H_mixer.terms:\n",
    "        comm_count *= check_commutation(H_mixer.terms, element)\n",
    "    \n",
    "    if comm_count == True:\n",
    "        result = exponentiate_commuting_pauli_sum(H_mixer)\n",
    "        return result\n",
    "    \n",
    "    else:\n",
    "        result = exponentiate(H_mixer) * weight\n",
    "        return result\n",
    "\n",
    "\n",
    "def color_parity_mixer(B, city_partitions, order_partitions):\n",
    "    '''\n",
    "    implements the full color parity mixer for the Travelling Salesperson Problem found in arXiv:1709.03489\n",
    "\n",
    "    :param B:\n",
    "    :param city_partitions: list of city partitions (which are lists themselves of tuples of cities).\n",
    "                            Equivalent to the color partitions in the original algorithm\n",
    "    :param order_partitions: list of order partitions (which are lists themselves of orders).\n",
    "                            Equivalent to the parity partitions in the original algorithm\n",
    "    :return:\n",
    "    '''\n",
    "    result = Program(I(0))\n",
    "\n",
    "    for order_partition in order_partitions:\n",
    "        for city_partition in city_partitions:\n",
    "            unitary = U_partition(city_partition, order_partition)\n",
    "            result = result.inst(unitary(B))\n",
    "            \n",
    "    return result"
   ]
  },
  {
   "cell_type": "markdown",
   "metadata": {},
   "source": [
    "Section IV: Helper Methods For Bayesian Optimization\n",
    "-------------------------------------------------"
   ]
  },
  {
   "cell_type": "code",
   "execution_count": 163,
   "metadata": {},
   "outputs": [],
   "source": [
    "def neg_cost_vector(qaoa_output, num_cities=4):\n",
    "    trials = qaoa_output.shape[0]\n",
    "\n",
    "    if qaoa_output.shape[1] != num_cities^2:\n",
    "        ValueError(\"The input samples have the wrong number of cities\")\n",
    "\n",
    "    cost_vector = np.empty(trials)\n",
    "\n",
    "    for trial in range(trials):\n",
    "        qaoa_trial = qaoa_output[trial]\n",
    "        cities_order = np.empty(num_cities)\n",
    "\n",
    "        cost = 0\n",
    "\n",
    "        for n in range(num_cities):\n",
    "            cities_order[n] = np.nonzero(qaoa_trial[n: n + (num_cities - 1)])[0]\n",
    "\n",
    "            city_1 = cities_order[n % num_cities]\n",
    "            city_2 = cities_order[(n + 1) % num_cities]\n",
    "            cost += map.get_distance(city_1, city_2)\n",
    "\n",
    "        cost_vector[trial] = cost\n",
    "\n",
    "    return - 1.0 *cost_vector\n",
    "\n",
    "\n",
    "def first_order_mean(neg_cost_vector):\n",
    "    '''\n",
    "    :param cost_vector: a vector containing samples from the cost distribution\n",
    "    :return: Montecarlo estimate of the first order statistic based on cost distribution\n",
    "    '''\n",
    "\n",
    "    trials = len(neg_cost_vector)\n",
    "    first_order_trial = np.empty(trials)\n",
    "\n",
    "\n",
    "    for n in range(trials):\n",
    "        cum_prob_n = np.sum(np.less_equal(neg_cost_vector, neg_cost_vector[n] * np.ones(trials)))/float(trials)\n",
    "        first_order_trial = neg_cost_vector[n] * (1- cum_prob_n)**(trials - 1)\n",
    "\n",
    "    first_order_mean = np.sum(first_order_trial)\n",
    "\n",
    "    return first_order_mean\n",
    "\n",
    "\n",
    "def first_order_actual(neg_cost_vector):\n",
    "    return np.min(neg_cost_vector)"
   ]
  },
  {
   "cell_type": "markdown",
   "metadata": {},
   "source": [
    "Section IV: Combining Mixer and Driver Unitaries\n",
    "---------------------------------------------"
   ]
  },
  {
   "cell_type": "code",
   "execution_count": 191,
   "metadata": {},
   "outputs": [],
   "source": [
    "def target_function(gamma, beta, initialization, city_partitions, order_partitions):\n",
    "    master_program_phase = initialization.inst(U_cost_all(city_partitions, order_partitions, gamma))\n",
    "    master_program = master_program_phase.inst(color_parity_mixer(beta, city_partitions, order_partitions))\n",
    "    \n",
    "    results = qvm.run_async(master_program, classical_addresses = range(17), trials = 1)\n",
    "    \n",
    "    #Function not complete need to include calculation of actual target function based on qvm results\n",
    "    return results"
   ]
  },
  {
   "cell_type": "code",
   "execution_count": 192,
   "metadata": {},
   "outputs": [
    {
     "name": "stdout",
     "output_type": "stream",
     "text": [
      "23925\n",
      "GCDFhgxvWVvAbEeM\n"
     ]
    }
   ],
   "source": [
    "print(target_function(1.0, 1.0, initialization, city_partitions, order_partitions))"
   ]
  }
 ],
 "metadata": {
  "kernelspec": {
   "display_name": "Python 3",
   "language": "python",
   "name": "python3"
  },
  "language_info": {
   "codemirror_mode": {
    "name": "ipython",
    "version": 3
   },
   "file_extension": ".py",
   "mimetype": "text/x-python",
   "name": "python",
   "nbconvert_exporter": "python",
   "pygments_lexer": "ipython3",
   "version": "3.6.3"
  }
 },
 "nbformat": 4,
 "nbformat_minor": 2
}
